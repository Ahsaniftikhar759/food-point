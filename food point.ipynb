{
 "cells": [
  {
   "cell_type": "markdown",
   "metadata": {},
   "source": [
    "# food point\n"
   ]
  },
  {
   "cell_type": "code",
   "execution_count": 5,
   "metadata": {},
   "outputs": [
    {
     "ename": "SyntaxError",
     "evalue": "invalid syntax (<ipython-input-5-cb8e0f3eebd4>, line 54)",
     "output_type": "error",
     "traceback": [
      "\u001b[1;36m  File \u001b[1;32m\"<ipython-input-5-cb8e0f3eebd4>\"\u001b[1;36m, line \u001b[1;32m54\u001b[0m\n\u001b[1;33m    else r_pizza in Available_Size:\u001b[0m\n\u001b[1;37m               ^\u001b[0m\n\u001b[1;31mSyntaxError\u001b[0m\u001b[1;31m:\u001b[0m invalid syntax\n"
     ]
    }
   ],
   "source": [
    "Available_Burger=[\"chicken burger\",\"cheese burger\",\"tikka burger\"]\n",
    "Available_Size=[\"XL\",\"L\",\"M\",\"S\"]\n",
    "Available_Flavours = [\"fajita\", \"tikka\", \"mexican\",'vegitable']\n",
    "Available_Toppings=['olives', 'cheese','hurbs']\n",
    "print(\"hello.... i am from food point\")\n",
    "print(\"how can i help you\")\n",
    "customer=input(\"what do you wanna eat\")\n",
    "if customer==\"burger\":\n",
    "    print(\"available burger\")\n",
    "    for i in Available_Burger:\n",
    "        print(\"_\" ,i)\n",
    "    Burger_order=True\n",
    "    while Burger_order:\n",
    "        r_burger=input(\"enter your burger name:\")\n",
    "        if r_burger in Available_Burger:\n",
    "            print(\"thank you !\") \n",
    "            Burger_order=False\n",
    "        \n",
    "        elif r_burger not in Available_Burger:\n",
    "            r_burger=input(\"Not Avaliable ! Enter your Size  again of Pizza that Given on Above in the menu: \")\n",
    "        if r_burger in Available_Burger: \n",
    "            print(\"thank you !\")\n",
    "        Burger_order=False\n",
    "        \n",
    "        \n",
    "elif customer==\"pizza\":\n",
    "    print(\"\\n\")\n",
    "    print(\"available size\")\n",
    "    for i in Available_Size:\n",
    "        print(\"_\",i)\n",
    "        \n",
    "    print(\"\\n\")\n",
    "    print(\"available flavour\")\n",
    "    for i in Available_Flavours:\n",
    "        print(\"_\",i)\n",
    "    \n",
    "    \n",
    "    print(\"\\n\")\n",
    "    print(\"available topping\")\n",
    "    for i in Available_Toppings:\n",
    "        print(\"_\",i)\n",
    "        \n",
    "        \n",
    "    pizza_order=True\n",
    "    while pizza_order:\n",
    "#size\n",
    "        r_pizza=input(\"enter your pizza size:\")\n",
    "        if r_pizza in Available_Size:\n",
    "            print(\"thank you !\") \n",
    "            pizza_order=False\n",
    "        \n",
    "        elif r_pizza not in Available_Size:\n",
    "            r_pizza=input(\"Not Avaliable ! Enter your Size  again of Pizza that Given on Above in the menu: \")\n",
    "        else r_pizza in Available_Size: \n",
    "            print(\"thank you !\")\n",
    "        pizza_order=False\n",
    "        \n",
    "        \n",
    "#flavour\n",
    "        f_pizza=input(\"enter your pizza flavour:\")\n",
    "        if f_pizza in Available_Flavours:\n",
    "            print(\"thank you !\") \n",
    "            pizza_order=False\n",
    "        \n",
    "        elif f_pizza not in Available_Flavours:\n",
    "            f_pizza=input(\"Not Avaliable ! Enter your flavour  again of Pizza that Given on Above in the menu: \")\n",
    "        if f_pizza in Available_Flavours: \n",
    "            print(\"thank you !\")\n",
    "        pizza_order=False\n",
    "        \n",
    "#toppings        \n",
    "\n",
    "        t_pizza=input(\"enter your pizza toppings:\")\n",
    "        if t_pizza in Available_Toppings:\n",
    "            print(\"thank you !\") \n",
    "            print(\"your order has been done\")\n",
    "            pizza_order=False\n",
    "        \n",
    "        elif t_pizza not in Available_Toppings:\n",
    "            t_pizza=input(\"Not Avaliable ! Enter your toppings  again of Pizza that Given on Above in the menu: \")\n",
    "        elif t_pizza in Available_Toppings: \n",
    "            print(\"thank you !\")\n",
    "        pizza_order=False\n",
    "        \n",
    "        \n",
    "    \n"
   ]
  },
  {
   "cell_type": "code",
   "execution_count": null,
   "metadata": {},
   "outputs": [],
   "source": []
  },
  {
   "cell_type": "code",
   "execution_count": null,
   "metadata": {},
   "outputs": [],
   "source": []
  }
 ],
 "metadata": {
  "kernelspec": {
   "display_name": "Python 3",
   "language": "python",
   "name": "python3"
  },
  "language_info": {
   "codemirror_mode": {
    "name": "ipython",
    "version": 3
   },
   "file_extension": ".py",
   "mimetype": "text/x-python",
   "name": "python",
   "nbconvert_exporter": "python",
   "pygments_lexer": "ipython3",
   "version": "3.7.3"
  }
 },
 "nbformat": 4,
 "nbformat_minor": 2
}
